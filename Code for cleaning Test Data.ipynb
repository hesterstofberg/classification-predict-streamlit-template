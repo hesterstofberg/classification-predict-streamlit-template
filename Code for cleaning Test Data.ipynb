{
 "cells": [
  {
   "cell_type": "code",
   "execution_count": null,
   "metadata": {
    "colab": {
     "base_uri": "https://localhost:8080/",
     "height": 85
    },
    "colab_type": "code",
    "executionInfo": {
     "elapsed": 1510,
     "status": "ok",
     "timestamp": 1592922134853,
     "user": {
      "displayName": "Madelein Muir",
      "photoUrl": "https://lh3.googleusercontent.com/a-/AOh14GhAsjaxi6LMexxHyR7c95X3PL-4665pxBo849Q-dg=s64",
      "userId": "17113587897948427455"
     },
     "user_tz": -120
    },
    "id": "0OmTCV5BcHp0",
    "outputId": "1437b7eb-8e8e-4dd3-d9cc-b97f47404906"
   },
   "outputs": [
    {
     "name": "stdout",
     "output_type": "stream",
     "text": [
      "[nltk_data] Downloading package stopwords to /root/nltk_data...\n",
      "[nltk_data]   Package stopwords is already up-to-date!\n",
      "[nltk_data] Downloading package wordnet to /root/nltk_data...\n",
      "[nltk_data]   Package wordnet is already up-to-date!\n"
     ]
    }
   ],
   "source": [
    "#Imports\n",
    "\"\"\"The notebook currently has loads of imports that must still be sorted.\n",
    "  Please have a through the code which imports you will need and copy from the\n",
    "  shared notebook.\n",
    "  I will still go through the code below to make sure no duplication of cleaning\n",
    "  is taking place but you can use this so long to get started. \n",
    "  \"\"\"\n",
    " \n",
    "import numpy as np\n",
    "import pandas as pd\n",
    "import re\n",
    "import string\n",
    "import nltk \n",
    " \n",
    "nltk.download('stopwords')\n",
    "nltk.download('wordnet')\n",
    " \n",
    "from nltk.stem import WordNetLemmatizer\n",
    "from nltk.corpus import stopwords"
   ]
  },
  {
   "cell_type": "code",
   "execution_count": null,
   "metadata": {
    "colab": {},
    "colab_type": "code",
    "id": "xCmzfhcbdyrP"
   },
   "outputs": [],
   "source": [
    "test_df = pd.read_csv(\"https://raw.githubusercontent.com/Maddy-Muir/Classification_Predict/master/test.csv\")"
   ]
  },
  {
   "cell_type": "code",
   "execution_count": null,
   "metadata": {
    "colab": {
     "base_uri": "https://localhost:8080/",
     "height": 34
    },
    "colab_type": "code",
    "executionInfo": {
     "elapsed": 2353,
     "status": "ok",
     "timestamp": 1592922135855,
     "user": {
      "displayName": "Madelein Muir",
      "photoUrl": "https://lh3.googleusercontent.com/a-/AOh14GhAsjaxi6LMexxHyR7c95X3PL-4665pxBo849Q-dg=s64",
      "userId": "17113587897948427455"
     },
     "user_tz": -120
    },
    "id": "4WaAmIbkiP1J",
    "outputId": "55c7cc2f-d782-421f-c9b1-a1331dacc67c"
   },
   "outputs": [
    {
     "data": {
      "text/plain": [
       "\"Combine this with the polling of staffers re climate change and womens' rights and you have a fascist state. https://t.co/ifrm7eexpj\""
      ]
     },
     "execution_count": 52,
     "metadata": {
      "tags": []
     },
     "output_type": "execute_result"
    }
   ],
   "source": [
    "test_df['message'][1]"
   ]
  },
  {
   "cell_type": "code",
   "execution_count": null,
   "metadata": {
    "colab": {},
    "colab_type": "code",
    "id": "yaLw1pVWXxEr"
   },
   "outputs": [],
   "source": [
    "def clean_tweets(message):\n",
    "    \n",
    "    #change all words into lower case\n",
    "    message = message.lower()\n",
    "    \n",
    "    #replace website links\n",
    "    url = r'http[s]?://(?:[A-Za-z]|[0-9]|[$-_@.&+]|[!*\\(\\),]|(?:%[0-9A-Fa-f][0-9A-Fa-f]))+'\n",
    "    web = 'url-web'\n",
    "    message = re.sub(url, web, message)\n",
    "    \n",
    "    #removing puntuation and digits\n",
    "    message  = \"\".join([char for char in message if char not in string.punctuation])\n",
    "    message = re.sub('[0-9]+', '', message)\n",
    "    \n",
    "    #removing stopwords\n",
    "    nltk_stopword = nltk.corpus.stopwords.words('english')\n",
    "    message = ' '.join([item for item in message.split() if item not in nltk_stopword])\n",
    "    \n",
    "    return message"
   ]
  },
  {
   "cell_type": "code",
   "execution_count": null,
   "metadata": {
    "colab": {},
    "colab_type": "code",
    "id": "QN-YAeqcgzMR"
   },
   "outputs": [],
   "source": [
    "test_df['message']=test_df['message'].apply(clean_tweets)"
   ]
  },
  {
   "cell_type": "code",
   "execution_count": null,
   "metadata": {
    "colab": {},
    "colab_type": "code",
    "id": "ytO3ujdIcD6C"
   },
   "outputs": [],
   "source": [
    "def cleaning (text):\n",
    "    text = re.sub(r'[^\\w\\s]','',text, re.UNICODE)\n",
    "    text = text.lower()\n",
    "    \n",
    "    lemmatizer = WordNetLemmatizer()\n",
    "    text = [lemmatizer.lemmatize(token) for token in text.split(\" \")]\n",
    "    text = [lemmatizer.lemmatize(token, \"v\") for token in text]\n",
    "    text = \" \".join(text)\n",
    "    text = re.sub('ãââ', '', text)\n",
    "    \n",
    "    return text"
   ]
  },
  {
   "cell_type": "code",
   "execution_count": null,
   "metadata": {
    "colab": {},
    "colab_type": "code",
    "id": "aJJahyfEgoix"
   },
   "outputs": [],
   "source": [
    "test_df['message']=test_df['message'].apply(cleaning)"
   ]
  },
  {
   "cell_type": "code",
   "execution_count": null,
   "metadata": {
    "colab": {
     "base_uri": "https://localhost:8080/",
     "height": 204
    },
    "colab_type": "code",
    "executionInfo": {
     "elapsed": 4537,
     "status": "ok",
     "timestamp": 1592922138405,
     "user": {
      "displayName": "Madelein Muir",
      "photoUrl": "https://lh3.googleusercontent.com/a-/AOh14GhAsjaxi6LMexxHyR7c95X3PL-4665pxBo849Q-dg=s64",
      "userId": "17113587897948427455"
     },
     "user_tz": -120
    },
    "id": "pC2uOdzRh4QM",
    "outputId": "2453d84a-1ceb-479a-93b3-d12004649044"
   },
   "outputs": [
    {
     "data": {
      "text/html": [
       "<div>\n",
       "<style scoped>\n",
       "    .dataframe tbody tr th:only-of-type {\n",
       "        vertical-align: middle;\n",
       "    }\n",
       "\n",
       "    .dataframe tbody tr th {\n",
       "        vertical-align: top;\n",
       "    }\n",
       "\n",
       "    .dataframe thead th {\n",
       "        text-align: right;\n",
       "    }\n",
       "</style>\n",
       "<table border=\"1\" class=\"dataframe\">\n",
       "  <thead>\n",
       "    <tr style=\"text-align: right;\">\n",
       "      <th></th>\n",
       "      <th>message</th>\n",
       "      <th>tweetid</th>\n",
       "    </tr>\n",
       "  </thead>\n",
       "  <tbody>\n",
       "    <tr>\n",
       "      <th>0</th>\n",
       "      <td>europe look china make sure alone fight climat...</td>\n",
       "      <td>169760</td>\n",
       "    </tr>\n",
       "    <tr>\n",
       "      <th>1</th>\n",
       "      <td>combine poll staffer climate change woman righ...</td>\n",
       "      <td>35326</td>\n",
       "    </tr>\n",
       "    <tr>\n",
       "      <th>2</th>\n",
       "      <td>scary unimpeachable evidence climate change al...</td>\n",
       "      <td>224985</td>\n",
       "    </tr>\n",
       "    <tr>\n",
       "      <th>3</th>\n",
       "      <td>karoli morgfair osborneink dailykos putin get ...</td>\n",
       "      <td>476263</td>\n",
       "    </tr>\n",
       "    <tr>\n",
       "      <th>4</th>\n",
       "      <td>rt fakewillmoore female orgasm cause global wa...</td>\n",
       "      <td>872928</td>\n",
       "    </tr>\n",
       "  </tbody>\n",
       "</table>\n",
       "</div>"
      ],
      "text/plain": [
       "                                             message  tweetid\n",
       "0  europe look china make sure alone fight climat...   169760\n",
       "1  combine poll staffer climate change woman righ...    35326\n",
       "2  scary unimpeachable evidence climate change al...   224985\n",
       "3  karoli morgfair osborneink dailykos putin get ...   476263\n",
       "4  rt fakewillmoore female orgasm cause global wa...   872928"
      ]
     },
     "execution_count": 57,
     "metadata": {
      "tags": []
     },
     "output_type": "execute_result"
    }
   ],
   "source": [
    "test_df.head()"
   ]
  },
  {
   "cell_type": "code",
   "execution_count": null,
   "metadata": {
    "colab": {},
    "colab_type": "code",
    "id": "X09FngGziBp_"
   },
   "outputs": [],
   "source": [
    "message = \"Combine this with the polling of staffers re climate change and womens' rights and you have a fascist state. https://t.co/ifrm7eexpj\"\n",
    "\n",
    "message = message.lower()\n",
    "\n",
    "\n",
    "url = r'http[s]?://(?:[A-Za-z]|[0-9]|[$-_@.&+]|[!*\\(\\),]|(?:%[0-9A-Fa-f][0-9A-Fa-f]))+'\n",
    "web = 'url-web'\n",
    "message = re.sub(url, web, message)\n",
    "\n",
    "\n",
    "message  = \"\".join([char for char in message if char not in string.punctuation])\n",
    "message = re.sub('[0-9]+', '', message)\n",
    "\n",
    "\n",
    "nltk_stopword = nltk.corpus.stopwords.words('english')\n",
    "message = ' '.join([item for item in message.split() if item not in nltk_stopword])\n",
    "\n",
    "message = re.sub(r'[^\\w\\s]','',message, re.UNICODE)\n",
    "message = message.lower()\n",
    "\n",
    "lemmatizer = WordNetLemmatizer()\n",
    "message = [lemmatizer.lemmatize(token) for token in message.split(\" \")]\n",
    "message = [lemmatizer.lemmatize(token, \"v\") for token in message]\n",
    "message = \" \".join(message)\n",
    "message = re.sub('ãââ', '', message)"
   ]
  },
  {
   "cell_type": "code",
   "execution_count": null,
   "metadata": {
    "colab": {
     "base_uri": "https://localhost:8080/",
     "height": 34
    },
    "colab_type": "code",
    "executionInfo": {
     "elapsed": 4461,
     "status": "ok",
     "timestamp": 1592922138425,
     "user": {
      "displayName": "Madelein Muir",
      "photoUrl": "https://lh3.googleusercontent.com/a-/AOh14GhAsjaxi6LMexxHyR7c95X3PL-4665pxBo849Q-dg=s64",
      "userId": "17113587897948427455"
     },
     "user_tz": -120
    },
    "id": "PywNexHajDVM",
    "outputId": "449e85ed-4e25-4218-903f-41e29020d259"
   },
   "outputs": [
    {
     "data": {
      "text/plain": [
       "'combine poll staffer climate change woman right fascist state urlweb'"
      ]
     },
     "execution_count": 59,
     "metadata": {
      "tags": []
     },
     "output_type": "execute_result"
    }
   ],
   "source": [
    "message"
   ]
  },
  {
   "cell_type": "markdown",
   "metadata": {},
   "source": [
    ":mag: "
   ]
  },
  {
   "cell_type": "code",
   "execution_count": null,
   "metadata": {},
   "outputs": [],
   "source": []
  }
 ],
 "metadata": {
  "colab": {
   "name": "Code for cleaning Test Data",
   "provenance": []
  },
  "kernelspec": {
   "display_name": "Python 3",
   "language": "python",
   "name": "python3"
  },
  "language_info": {
   "codemirror_mode": {
    "name": "ipython",
    "version": 3
   },
   "file_extension": ".py",
   "mimetype": "text/x-python",
   "name": "python",
   "nbconvert_exporter": "python",
   "pygments_lexer": "ipython3",
   "version": "3.7.4"
  }
 },
 "nbformat": 4,
 "nbformat_minor": 1
}
